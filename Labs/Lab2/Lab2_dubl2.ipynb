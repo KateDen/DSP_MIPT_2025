{
 "cells": [
  {
   "cell_type": "code",
   "execution_count": 37,
   "id": "f0ba6f83",
   "metadata": {},
   "outputs": [],
   "source": [
    "import os\n",
    "import numpy as np\n",
    "import torch\n",
    "import torchaudio\n",
    "import subprocess\n",
    "import pandas as pd\n",
    "from torchmetrics.audio import SignalDistortionRatio, ScaleInvariantSignalDistortionRatio, PerceptualEvaluationSpeechQuality"
   ]
  },
  {
   "cell_type": "code",
   "execution_count": 38,
   "id": "8ad74047",
   "metadata": {},
   "outputs": [
    {
     "name": "stdout",
     "output_type": "stream",
     "text": [
      "PESQ: 4.197354316711426\n"
     ]
    }
   ],
   "source": [
    "import torch\n",
    "from torchmetrics.audio import PerceptualEvaluationSpeechQuality\n",
    "\n",
    "# Сгенерируем \"чистый\" и \"noisy\"\n",
    "fs = 16000\n",
    "clean = torch.randn(1, fs*1)     # 1 секунда, batch=1\n",
    "noisy = clean + 0.3*torch.randn(1, fs*1)  # немного испорченный\n",
    "\n",
    "pesq_metric = PerceptualEvaluationSpeechQuality(fs, mode='wb')\n",
    "val = pesq_metric(noisy, clean)\n",
    "print('PESQ:', val.item())\n"
   ]
  },
  {
   "cell_type": "code",
   "execution_count": 39,
   "id": "2df49b39",
   "metadata": {},
   "outputs": [],
   "source": [
    "def mixer(original, noise, snr_db):\n",
    "    L = len(original)\n",
    "    if len(noise) < L:\n",
    "        repeats = int(np.ceil(L / len(noise)))\n",
    "        noise = np.tile(noise, repeats)\n",
    "    noise = noise[:L]\n",
    "    rms_signal = np.sqrt((original**2).mean())\n",
    "    rms_noise = np.sqrt((noise**2).mean())\n",
    "    snr_linear = 10 ** (snr_db / 20)\n",
    "    desired_rms_noise = rms_signal / snr_linear\n",
    "    noise = noise * (desired_rms_noise / (rms_noise + 1e-8))\n",
    "    mix = original + noise\n",
    "    return mix.astype('float32')\n",
    "\n",
    "def load_audio(path, sr=16000):\n",
    "    audio, fs = torchaudio.load(path)\n",
    "    if fs != sr:\n",
    "        audio = torchaudio.functional.resample(audio, fs, sr)\n",
    "    return audio[0].numpy(), sr\n",
    "\n",
    "def compute_metrics(clean, mixed, sr=16000, eval_duration=10):\n",
    "    # eval_duration в секундах; берём равные короткие фрагменты\n",
    "    max_samples = int(eval_duration * sr)\n",
    "    L = min(len(clean), len(mixed), max_samples)\n",
    "    clean_s = clean[:L]\n",
    "    mixed_s = mixed[:L]\n",
    "    clean_torch = torch.tensor(clean_s, dtype=torch.float32).unsqueeze(0)\n",
    "    mixed_torch = torch.tensor(mixed_s, dtype=torch.float32).unsqueeze(0)\n",
    "    sdr = SignalDistortionRatio()(mixed_torch, clean_torch).item()\n",
    "    sisdr = ScaleInvariantSignalDistortionRatio()(mixed_torch, clean_torch).item()\n",
    "    pesq_metric = PerceptualEvaluationSpeechQuality(sr, mode='wb')\n",
    "    pesq = pesq_metric(mixed_torch, clean_torch).item()\n",
    "    return sdr, sisdr, pesq\n",
    "\n",
    "# Заглушки для NISQA и DNSMOS\n",
    "#def run_nisqa(audio_file):\n",
    "#    return [None] * 6\n",
    "def get_dnsmos(audio_file):\n",
    "    return [None] * 3\n",
    "\n",
    "\n",
    "def run_nisqa(audio_file, model_dir='NISQA/nisqa', out_csv='tmp.csv'):\n",
    "    # Например: python -m nisqa.NISQA MOS_pred --audio_dir=audio/ --data_path=wavs.csv ...\n",
    "    # wavs.csv имеет колонки: 'file_name'\n",
    "    # Ваша задача: создать временный csv, скормить cli и считать результат.\n",
    "    import csv, os\n",
    "    tmp_csv = 'nisqa_file.csv'\n",
    "    with open(tmp_csv, 'w', newline='') as f:\n",
    "        writer = csv.writer(f)\n",
    "        writer.writerow(['file_name'])\n",
    "        writer.writerow([audio_file])\n",
    "    cmd = ['python', '-m', 'nisqa.NISQA', \n",
    "           'MOS_pred', \n",
    "           '--audio_dir', os.path.dirname(audio_file), \n",
    "           '--data_path', tmp_csv,\n",
    "           '--pretrained_model_dir', model_dir,\n",
    "           '--num_workers', '1']\n",
    "    subprocess.run(cmd)\n",
    "    # прочитать nisqa_file_output.csv (создаёт nisqa_<timestamp>_MOS_output.csv)\n",
    "    files = [f for f in os.listdir('.') if f.endswith('_MOS_output.csv')]\n",
    "    print(f'len(files) = {len(files)}')\n",
    "    df = pd.read_csv(sorted(files)[-1])\n",
    "    # Колонки: mos_pred, mos_pred_full, ...\n",
    "    values = [df.iloc[0][k] for k in ['mos_pred', 'mos_pred_full', 'mos_pred_d', 'mos_pred_mos_sig', 'mos_pred_mos_bak', 'mos_pred_mos_ovr']]\n",
    "    return values"
   ]
  },
  {
   "cell_type": "code",
   "execution_count": 40,
   "id": "390318ae",
   "metadata": {},
   "outputs": [],
   "source": [
    "# === Параметры ===\n",
    "clean_wav = \"../../sounds/voice_audiobook.mp3\"\n",
    "noise_wav = \"../../sounds/noise_for_voice.wav\"\n",
    "outdir = \"mixed_audio/\"\n",
    "os.makedirs(outdir, exist_ok=True)\n",
    "SNR_list = [-5, 0, 5, 10]"
   ]
  },
  {
   "cell_type": "code",
   "execution_count": 41,
   "id": "8f59e6df",
   "metadata": {},
   "outputs": [
    {
     "name": "stdout",
     "output_type": "stream",
     "text": [
      "sr1 = 16000\n",
      "sr2 = 16000\n"
     ]
    }
   ],
   "source": [
    "# === Загрузка аудио ===\n",
    "assert os.path.exists(clean_wav), f\"Файл не найден: {clean_wav}\"\n",
    "assert os.path.exists(noise_wav), f\"Файл не найден: {noise_wav}\"\n",
    "\n",
    "clean, sr = load_audio(clean_wav)\n",
    "print(f'sr1 = {sr}')\n",
    "assert sr!=0\n",
    "noise, sr = load_audio(noise_wav, sr)\n",
    "print(f'sr2 = {sr}')"
   ]
  },
  {
   "cell_type": "code",
   "execution_count": 42,
   "id": "d701b8ca",
   "metadata": {},
   "outputs": [
    {
     "name": "stdout",
     "output_type": "stream",
     "text": [
      "snr = -5\n",
      "1\n",
      "2\n",
      "3\n",
      "4\n",
      "len(files) = 0\n",
      "Ошибка на SNR=-5: list index out of range\n",
      "Ошибка на SNR=-5: name 'nisqa_metrics' is not defined\n",
      "snr = 0\n",
      "1\n",
      "2\n",
      "3\n",
      "4\n",
      "len(files) = 0\n",
      "Ошибка на SNR=0: list index out of range\n",
      "Ошибка на SNR=0: name 'nisqa_metrics' is not defined\n",
      "snr = 5\n",
      "1\n",
      "2\n",
      "3\n",
      "4\n",
      "len(files) = 0\n",
      "Ошибка на SNR=5: list index out of range\n",
      "Ошибка на SNR=5: name 'nisqa_metrics' is not defined\n",
      "snr = 10\n",
      "1\n",
      "2\n",
      "3\n",
      "4\n",
      "len(files) = 0\n",
      "Ошибка на SNR=10: list index out of range\n",
      "Ошибка на SNR=10: name 'nisqa_metrics' is not defined\n"
     ]
    }
   ],
   "source": [
    "rows = []\n",
    "for snr in SNR_list:\n",
    "    print(f'snr = {snr}')\n",
    "    try:\n",
    "        mix = mixer(clean, noise, snr)\n",
    "        print('1')\n",
    "        out_path = os.path.join(outdir, f\"mix_snr_{snr}db.wav\")\n",
    "        print('2')\n",
    "        torchaudio.save(out_path, torch.tensor(mix).unsqueeze(0), sr)\n",
    "        print('3')\n",
    "        sdr, sisdr, pesq = compute_metrics(clean, mix, sr)\n",
    "        print('4')\n",
    "        nisqa_metrics = run_nisqa(out_path)\n",
    "        print('5')\n",
    "        dnsmos_metrics = [None] * 3\n",
    "        print('6')\n",
    "        # MOS вручную/краудсорс — поставить 0/None если не оцениваете\n",
    "        print(f\"Прослушайте файл {out_path} (SNR={snr}dB) и поставьте MOS (от 1 до 5):\")\n",
    "        mos_manual = None\n",
    "    except Exception as e:\n",
    "        print(f\"Ошибка на SNR={snr}: {e}\")\n",
    "        \n",
    "    try:\n",
    "        row = {\n",
    "            \"файл\": out_path,\n",
    "            \"SNR\": snr,\n",
    "            \"SDR\": sdr,\n",
    "            \"SI-SDR\": sisdr,\n",
    "            \"PESQ\": pesq,\n",
    "            \"NISQA_mos_pred\": nisqa_metrics[0],\n",
    "            \"NISQA_mos_pred_full\": nisqa_metrics[1],\n",
    "            \"NISQA_mos_pred_d\": nisqa_metrics[2],\n",
    "            \"NISQA_mos_pred_mos_sig\": nisqa_metrics[3],\n",
    "            \"NISQA_mos_pred_mos_bak\": nisqa_metrics[4],\n",
    "            \"NISQA_mos_pred_mos_ovr\": nisqa_metrics[5],\n",
    "            \"DNSMOS_OVRL\": dnsmos_metrics[0],\n",
    "            \"DNSMOS_SIG\": dnsmos_metrics[1],\n",
    "            \"DNSMOS_BAK\": dnsmos_metrics[2],\n",
    "            \"MOS\": mos_manual\n",
    "        }\n",
    "        rows.append(row)\n",
    "        print(f\"Row for SNR={snr} added.\")\n",
    "    except Exception as e:\n",
    "        print(f\"Ошибка на SNR={snr}: {e}\")\n",
    "\n"
   ]
  },
  {
   "cell_type": "code",
   "execution_count": 43,
   "id": "1cfa82ef",
   "metadata": {},
   "outputs": [
    {
     "name": "stdout",
     "output_type": "stream",
     "text": [
      "\n",
      "Результаты эксперимента:\n",
      "Empty DataFrame\n",
      "Columns: []\n",
      "Index: []\n"
     ]
    }
   ],
   "source": [
    "df = pd.DataFrame(rows)\n",
    "df.to_csv('results.csv', index=False)\n",
    "print(\"\\nРезультаты эксперимента:\")\n",
    "print(df.to_string(index=False))"
   ]
  },
  {
   "cell_type": "code",
   "execution_count": 44,
   "id": "929fc454",
   "metadata": {},
   "outputs": [],
   "source": [
    "import numpy as np\n",
    "\n",
    "def mixer(original, noise, snr_db):\n",
    "    \"\"\"\n",
    "    Смешивает оригинальный сигнал с шумом согласно заданному SNR (в дБ)\n",
    "    original: np.ndarray (длина T)\n",
    "    noise: np.ndarray (длина >= T)\n",
    "    snr_db: float, SNR в децибелах\n",
    "    Возвращает смешанный сигнал длины T.\n",
    "    \"\"\"\n",
    "    # Обрезать шум до длины original или повторить noise\n",
    "    if len(noise) < len(original):\n",
    "        # Повторяем noise, если он короче\n",
    "        repeats = int(np.ceil(len(original) / len(noise)))\n",
    "        noise = np.tile(noise, repeats)\n",
    "    noise = noise[:len(original)]\n",
    "    \n",
    "    # RMS (Root Mean Square) амплитуда\n",
    "    rms_signal = np.sqrt(np.mean(original**2))\n",
    "    rms_noise = np.sqrt(np.mean(noise**2))\n",
    "    \n",
    "    # Считаем по формуле, вывод: K = rms_signal / (10**(snr_db/20) * rms_noise)\n",
    "    desired_rms_noise = rms_signal / (10**(snr_db/20))\n",
    "    noise = noise * (desired_rms_noise / (rms_noise + 1e-12))\n",
    "    mix = original + noise\n",
    "    return mix.astype(np.float32)\n"
   ]
  },
  {
   "cell_type": "code",
   "execution_count": 45,
   "id": "97bd28a5",
   "metadata": {},
   "outputs": [
    {
     "ename": "LibsndfileError",
     "evalue": "Error opening 'corrected_white_noise.wav': System error.",
     "output_type": "error",
     "traceback": [
      "\u001b[1;31m---------------------------------------------------------------------------\u001b[0m",
      "\u001b[1;31mLibsndfileError\u001b[0m                           Traceback (most recent call last)",
      "Cell \u001b[1;32mIn[45], line 6\u001b[0m\n\u001b[0;32m      3\u001b[0m voice_path \u001b[38;5;241m=\u001b[39m \u001b[38;5;124m'\u001b[39m\u001b[38;5;124mcorrected_white_noise.wav\u001b[39m\u001b[38;5;124m'\u001b[39m  \u001b[38;5;66;03m# Путь к чистому голосу\u001b[39;00m\n\u001b[0;32m      4\u001b[0m noise_path \u001b[38;5;241m=\u001b[39m \u001b[38;5;124m'\u001b[39m\u001b[38;5;124mnoise_pink.wav\u001b[39m\u001b[38;5;124m'\u001b[39m  \u001b[38;5;66;03m# Путь к шуму (шум из DEMAND, UrbanSound8K и т.д.)\u001b[39;00m\n\u001b[1;32m----> 6\u001b[0m voice, sr \u001b[38;5;241m=\u001b[39m \u001b[43mtorchaudio\u001b[49m\u001b[38;5;241;43m.\u001b[39;49m\u001b[43mload\u001b[49m\u001b[43m(\u001b[49m\u001b[43mvoice_path\u001b[49m\u001b[43m)\u001b[49m\n\u001b[0;32m      7\u001b[0m noise, sr_noise \u001b[38;5;241m=\u001b[39m torchaudio\u001b[38;5;241m.\u001b[39mload(noise_path)\n\u001b[0;32m      8\u001b[0m voice \u001b[38;5;241m=\u001b[39m voice[\u001b[38;5;241m0\u001b[39m]\u001b[38;5;241m.\u001b[39mnumpy()\n",
      "File \u001b[1;32mc:\\Users\\denisovakatia\\AppData\\Local\\anaconda3\\envs\\audioenv\\lib\\site-packages\\torchaudio\\_backend\\utils.py:205\u001b[0m, in \u001b[0;36mget_load_func.<locals>.load\u001b[1;34m(uri, frame_offset, num_frames, normalize, channels_first, format, buffer_size, backend)\u001b[0m\n\u001b[0;32m    128\u001b[0m \u001b[38;5;250m\u001b[39m\u001b[38;5;124;03m\"\"\"Load audio data from source.\u001b[39;00m\n\u001b[0;32m    129\u001b[0m \n\u001b[0;32m    130\u001b[0m \u001b[38;5;124;03mBy default (``normalize=True``, ``channels_first=True``), this function returns Tensor with\u001b[39;00m\n\u001b[1;32m   (...)\u001b[0m\n\u001b[0;32m    202\u001b[0m \u001b[38;5;124;03m        `[channel, time]` else `[time, channel]`.\u001b[39;00m\n\u001b[0;32m    203\u001b[0m \u001b[38;5;124;03m\"\"\"\u001b[39;00m\n\u001b[0;32m    204\u001b[0m backend \u001b[38;5;241m=\u001b[39m dispatcher(uri, \u001b[38;5;28mformat\u001b[39m, backend)\n\u001b[1;32m--> 205\u001b[0m \u001b[38;5;28;01mreturn\u001b[39;00m \u001b[43mbackend\u001b[49m\u001b[38;5;241;43m.\u001b[39;49m\u001b[43mload\u001b[49m\u001b[43m(\u001b[49m\u001b[43muri\u001b[49m\u001b[43m,\u001b[49m\u001b[43m \u001b[49m\u001b[43mframe_offset\u001b[49m\u001b[43m,\u001b[49m\u001b[43m \u001b[49m\u001b[43mnum_frames\u001b[49m\u001b[43m,\u001b[49m\u001b[43m \u001b[49m\u001b[43mnormalize\u001b[49m\u001b[43m,\u001b[49m\u001b[43m \u001b[49m\u001b[43mchannels_first\u001b[49m\u001b[43m,\u001b[49m\u001b[43m \u001b[49m\u001b[38;5;28;43mformat\u001b[39;49m\u001b[43m,\u001b[49m\u001b[43m \u001b[49m\u001b[43mbuffer_size\u001b[49m\u001b[43m)\u001b[49m\n",
      "File \u001b[1;32mc:\\Users\\denisovakatia\\AppData\\Local\\anaconda3\\envs\\audioenv\\lib\\site-packages\\torchaudio\\_backend\\soundfile.py:27\u001b[0m, in \u001b[0;36mSoundfileBackend.load\u001b[1;34m(uri, frame_offset, num_frames, normalize, channels_first, format, buffer_size)\u001b[0m\n\u001b[0;32m     17\u001b[0m \u001b[38;5;129m@staticmethod\u001b[39m\n\u001b[0;32m     18\u001b[0m \u001b[38;5;28;01mdef\u001b[39;00m \u001b[38;5;21mload\u001b[39m(\n\u001b[0;32m     19\u001b[0m     uri: Union[BinaryIO, \u001b[38;5;28mstr\u001b[39m, os\u001b[38;5;241m.\u001b[39mPathLike],\n\u001b[1;32m   (...)\u001b[0m\n\u001b[0;32m     25\u001b[0m     buffer_size: \u001b[38;5;28mint\u001b[39m \u001b[38;5;241m=\u001b[39m \u001b[38;5;241m4096\u001b[39m,\n\u001b[0;32m     26\u001b[0m ) \u001b[38;5;241m-\u001b[39m\u001b[38;5;241m>\u001b[39m Tuple[torch\u001b[38;5;241m.\u001b[39mTensor, \u001b[38;5;28mint\u001b[39m]:\n\u001b[1;32m---> 27\u001b[0m     \u001b[38;5;28;01mreturn\u001b[39;00m \u001b[43msoundfile_backend\u001b[49m\u001b[38;5;241;43m.\u001b[39;49m\u001b[43mload\u001b[49m\u001b[43m(\u001b[49m\u001b[43muri\u001b[49m\u001b[43m,\u001b[49m\u001b[43m \u001b[49m\u001b[43mframe_offset\u001b[49m\u001b[43m,\u001b[49m\u001b[43m \u001b[49m\u001b[43mnum_frames\u001b[49m\u001b[43m,\u001b[49m\u001b[43m \u001b[49m\u001b[43mnormalize\u001b[49m\u001b[43m,\u001b[49m\u001b[43m \u001b[49m\u001b[43mchannels_first\u001b[49m\u001b[43m,\u001b[49m\u001b[43m \u001b[49m\u001b[38;5;28;43mformat\u001b[39;49m\u001b[43m)\u001b[49m\n",
      "File \u001b[1;32mc:\\Users\\denisovakatia\\AppData\\Local\\anaconda3\\envs\\audioenv\\lib\\site-packages\\torchaudio\\_backend\\soundfile_backend.py:221\u001b[0m, in \u001b[0;36mload\u001b[1;34m(filepath, frame_offset, num_frames, normalize, channels_first, format)\u001b[0m\n\u001b[0;32m    139\u001b[0m \u001b[38;5;129m@_requires_soundfile\u001b[39m\n\u001b[0;32m    140\u001b[0m \u001b[38;5;28;01mdef\u001b[39;00m \u001b[38;5;21mload\u001b[39m(\n\u001b[0;32m    141\u001b[0m     filepath: \u001b[38;5;28mstr\u001b[39m,\n\u001b[1;32m   (...)\u001b[0m\n\u001b[0;32m    146\u001b[0m     \u001b[38;5;28mformat\u001b[39m: Optional[\u001b[38;5;28mstr\u001b[39m] \u001b[38;5;241m=\u001b[39m \u001b[38;5;28;01mNone\u001b[39;00m,\n\u001b[0;32m    147\u001b[0m ) \u001b[38;5;241m-\u001b[39m\u001b[38;5;241m>\u001b[39m Tuple[torch\u001b[38;5;241m.\u001b[39mTensor, \u001b[38;5;28mint\u001b[39m]:\n\u001b[0;32m    148\u001b[0m \u001b[38;5;250m    \u001b[39m\u001b[38;5;124;03m\"\"\"Load audio data from file.\u001b[39;00m\n\u001b[0;32m    149\u001b[0m \n\u001b[0;32m    150\u001b[0m \u001b[38;5;124;03m    Note:\u001b[39;00m\n\u001b[1;32m   (...)\u001b[0m\n\u001b[0;32m    219\u001b[0m \u001b[38;5;124;03m            `[channel, time]` else `[time, channel]`.\u001b[39;00m\n\u001b[0;32m    220\u001b[0m \u001b[38;5;124;03m    \"\"\"\u001b[39;00m\n\u001b[1;32m--> 221\u001b[0m     \u001b[38;5;28;01mwith\u001b[39;00m \u001b[43msoundfile\u001b[49m\u001b[38;5;241;43m.\u001b[39;49m\u001b[43mSoundFile\u001b[49m\u001b[43m(\u001b[49m\u001b[43mfilepath\u001b[49m\u001b[43m,\u001b[49m\u001b[43m \u001b[49m\u001b[38;5;124;43m\"\u001b[39;49m\u001b[38;5;124;43mr\u001b[39;49m\u001b[38;5;124;43m\"\u001b[39;49m\u001b[43m)\u001b[49m \u001b[38;5;28;01mas\u001b[39;00m file_:\n\u001b[0;32m    222\u001b[0m         \u001b[38;5;28;01mif\u001b[39;00m file_\u001b[38;5;241m.\u001b[39mformat \u001b[38;5;241m!=\u001b[39m \u001b[38;5;124m\"\u001b[39m\u001b[38;5;124mWAV\u001b[39m\u001b[38;5;124m\"\u001b[39m \u001b[38;5;129;01mor\u001b[39;00m normalize:\n\u001b[0;32m    223\u001b[0m             dtype \u001b[38;5;241m=\u001b[39m \u001b[38;5;124m\"\u001b[39m\u001b[38;5;124mfloat32\u001b[39m\u001b[38;5;124m\"\u001b[39m\n",
      "File \u001b[1;32mc:\\Users\\denisovakatia\\AppData\\Local\\anaconda3\\envs\\audioenv\\lib\\site-packages\\soundfile.py:690\u001b[0m, in \u001b[0;36mSoundFile.__init__\u001b[1;34m(self, file, mode, samplerate, channels, subtype, endian, format, closefd, compression_level, bitrate_mode)\u001b[0m\n\u001b[0;32m    687\u001b[0m \u001b[38;5;28mself\u001b[39m\u001b[38;5;241m.\u001b[39m_bitrate_mode \u001b[38;5;241m=\u001b[39m bitrate_mode\n\u001b[0;32m    688\u001b[0m \u001b[38;5;28mself\u001b[39m\u001b[38;5;241m.\u001b[39m_info \u001b[38;5;241m=\u001b[39m _create_info_struct(file, mode, samplerate, channels,\n\u001b[0;32m    689\u001b[0m                                  \u001b[38;5;28mformat\u001b[39m, subtype, endian)\n\u001b[1;32m--> 690\u001b[0m \u001b[38;5;28mself\u001b[39m\u001b[38;5;241m.\u001b[39m_file \u001b[38;5;241m=\u001b[39m \u001b[38;5;28;43mself\u001b[39;49m\u001b[38;5;241;43m.\u001b[39;49m\u001b[43m_open\u001b[49m\u001b[43m(\u001b[49m\u001b[43mfile\u001b[49m\u001b[43m,\u001b[49m\u001b[43m \u001b[49m\u001b[43mmode_int\u001b[49m\u001b[43m,\u001b[49m\u001b[43m \u001b[49m\u001b[43mclosefd\u001b[49m\u001b[43m)\u001b[49m\n\u001b[0;32m    691\u001b[0m \u001b[38;5;28;01mif\u001b[39;00m \u001b[38;5;28mset\u001b[39m(mode)\u001b[38;5;241m.\u001b[39missuperset(\u001b[38;5;124m'\u001b[39m\u001b[38;5;124mr+\u001b[39m\u001b[38;5;124m'\u001b[39m) \u001b[38;5;129;01mand\u001b[39;00m \u001b[38;5;28mself\u001b[39m\u001b[38;5;241m.\u001b[39mseekable():\n\u001b[0;32m    692\u001b[0m     \u001b[38;5;66;03m# Move write position to 0 (like in Python file objects)\u001b[39;00m\n\u001b[0;32m    693\u001b[0m     \u001b[38;5;28mself\u001b[39m\u001b[38;5;241m.\u001b[39mseek(\u001b[38;5;241m0\u001b[39m)\n",
      "File \u001b[1;32mc:\\Users\\denisovakatia\\AppData\\Local\\anaconda3\\envs\\audioenv\\lib\\site-packages\\soundfile.py:1265\u001b[0m, in \u001b[0;36mSoundFile._open\u001b[1;34m(self, file, mode_int, closefd)\u001b[0m\n\u001b[0;32m   1262\u001b[0m \u001b[38;5;28;01mif\u001b[39;00m file_ptr \u001b[38;5;241m==\u001b[39m _ffi\u001b[38;5;241m.\u001b[39mNULL:\n\u001b[0;32m   1263\u001b[0m     \u001b[38;5;66;03m# get the actual error code\u001b[39;00m\n\u001b[0;32m   1264\u001b[0m     err \u001b[38;5;241m=\u001b[39m _snd\u001b[38;5;241m.\u001b[39msf_error(file_ptr)\n\u001b[1;32m-> 1265\u001b[0m     \u001b[38;5;28;01mraise\u001b[39;00m LibsndfileError(err, prefix\u001b[38;5;241m=\u001b[39m\u001b[38;5;124m\"\u001b[39m\u001b[38;5;124mError opening \u001b[39m\u001b[38;5;132;01m{0!r}\u001b[39;00m\u001b[38;5;124m: \u001b[39m\u001b[38;5;124m\"\u001b[39m\u001b[38;5;241m.\u001b[39mformat(\u001b[38;5;28mself\u001b[39m\u001b[38;5;241m.\u001b[39mname))\n\u001b[0;32m   1266\u001b[0m \u001b[38;5;28;01mif\u001b[39;00m mode_int \u001b[38;5;241m==\u001b[39m _snd\u001b[38;5;241m.\u001b[39mSFM_WRITE:\n\u001b[0;32m   1267\u001b[0m     \u001b[38;5;66;03m# Due to a bug in libsndfile version <= 1.0.25, frames != 0\u001b[39;00m\n\u001b[0;32m   1268\u001b[0m     \u001b[38;5;66;03m# when opening a named pipe in SFM_WRITE mode.\u001b[39;00m\n\u001b[0;32m   1269\u001b[0m     \u001b[38;5;66;03m# See http://github.com/erikd/libsndfile/issues/77.\u001b[39;00m\n\u001b[0;32m   1270\u001b[0m     \u001b[38;5;28mself\u001b[39m\u001b[38;5;241m.\u001b[39m_info\u001b[38;5;241m.\u001b[39mframes \u001b[38;5;241m=\u001b[39m \u001b[38;5;241m0\u001b[39m\n",
      "\u001b[1;31mLibsndfileError\u001b[0m: Error opening 'corrected_white_noise.wav': System error."
     ]
    }
   ],
   "source": [
    "import torchaudio\n",
    "\n",
    "voice_path = 'corrected_white_noise.wav'  # Путь к чистому голосу\n",
    "noise_path = 'noise_pink.wav'  # Путь к шуму (шум из DEMAND, UrbanSound8K и т.д.)\n",
    "\n",
    "voice, sr = torchaudio.load(voice_path)\n",
    "noise, sr_noise = torchaudio.load(noise_path)\n",
    "voice = voice[0].numpy()\n",
    "noise = noise[0].numpy()\n",
    "assert sr == sr_noise\n",
    "\n",
    "snr_list = [-5, 0, 5, 10]\n",
    "mixed_audios = {}\n",
    "for snr in snr_list:\n",
    "    mixed = mixer(voice, noise, snr)\n",
    "    torchaudio.save(f\"mix_{snr}dB.wav\", torch.from_numpy(mixed).unsqueeze(0), sr)\n",
    "    mixed_audios[snr] = mixed\n"
   ]
  },
  {
   "cell_type": "code",
   "execution_count": null,
   "id": "f5efa0b5",
   "metadata": {},
   "outputs": [],
   "source": [
    "import torch\n",
    "from torchmetrics.audio import SignalDistortionRatio, ScaleInvariantSignalDistortionRatio, PerceptualEvaluationSpeechQuality\n",
    "\n",
    "sdr_metric = SignalDistortionRatio()\n",
    "sisdr_metric = ScaleInvariantSignalDistortionRatio()\n",
    "# Для PESQ нужна поддержка только Wideband (16кГц) и Narrowband (8кГц)\n",
    "# Скачайте голос и шум подходящей частоты дискретизации!\n",
    "\n",
    "pesq_metric = PerceptualEvaluationSpeechQuality(16000, mode='wb')\n",
    "\n",
    "results = []\n",
    "for snr in snr_list:\n",
    "    mixture = mixed_audios[snr]\n",
    "    # Обрезаем на всякий случай длину оригинала\n",
    "    mixture = mixture[:len(voice)]\n",
    "    mixture_tensor = torch.from_numpy(mixture)\n",
    "    voice_tensor = torch.from_numpy(voice)\n",
    "    sdr = sdr_metric(mixture_tensor, voice_tensor).item()\n",
    "    sisdr = sisdr_metric(mixture_tensor, voice_tensor).item()\n",
    "    pesq = pesq_metric(mixture_tensor, voice_tensor).item()\n",
    "    results.append({'snr': snr, 'SDR': sdr, 'SI-SDR': sisdr, 'PESQ': pesq})\n"
   ]
  },
  {
   "cell_type": "code",
   "execution_count": null,
   "id": "d2874db2",
   "metadata": {},
   "outputs": [],
   "source": [
    "# Во-первых, сохраните файлы для оценки: mix_-5dB.wav и т.д.\n",
    "# Затем используйте NISQA CLI или функцию Python\n",
    "# Пример используя os.system (CLI):\n",
    "import os\n",
    "\n",
    "for snr in snr_list:\n",
    "    wave = f\"mix_{snr}dB.wav\"\n",
    "    cmd = f\"python nisqa/run_nisqa.py --mode predict_file --pretrained_model nisqa/NISQA_MODEL --input_file {wave} --output_csv nisqa_out_{snr}dB.csv\"\n",
    "    os.system(cmd)\n"
   ]
  },
  {
   "cell_type": "code",
   "execution_count": null,
   "id": "6db6ad3e",
   "metadata": {},
   "outputs": [],
   "source": []
  }
 ],
 "metadata": {
  "kernelspec": {
   "display_name": "audioenv",
   "language": "python",
   "name": "python3"
  },
  "language_info": {
   "codemirror_mode": {
    "name": "ipython",
    "version": 3
   },
   "file_extension": ".py",
   "mimetype": "text/x-python",
   "name": "python",
   "nbconvert_exporter": "python",
   "pygments_lexer": "ipython3",
   "version": "3.8.20"
  }
 },
 "nbformat": 4,
 "nbformat_minor": 5
}
